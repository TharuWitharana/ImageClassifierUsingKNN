{
  "cells": [
    {
      "cell_type": "code",
      "execution_count": null,
      "metadata": {
        "colab": {
          "base_uri": "https://localhost:8080/"
        },
        "id": "x-zA0bdgBGCN",
        "outputId": "b08ffbba-89c4-4536-87c7-b3e2d5e409c4"
      },
      "outputs": [
        {
          "output_type": "stream",
          "name": "stdout",
          "text": [
            "Mounted at /content/drive\n"
          ]
        }
      ],
      "source": [
        "\n",
        "from google.colab import drive\n",
        "drive.mount('/content/drive')\n",
        "\n",
        "import numpy as np\n",
        "import pandas as pd\n",
        "import matplotlib.pyplot as plt\n",
        "from sklearn.neighbors import KNeighborsClassifier\n",
        "from sklearn.metrics import accuracy_score, confusion_matrix\n",
        "from tensorflow.keras.preprocessing.image import ImageDataGenerator\n",
        "from google.colab import drive"
      ]
    },
    {
      "cell_type": "code",
      "execution_count": null,
      "metadata": {
        "colab": {
          "base_uri": "https://localhost:8080/"
        },
        "id": "S6cSHwwQeCZ0",
        "outputId": "4d021774-25fa-4f1b-ec4a-0d8d4420c1ec"
      },
      "outputs": [
        {
          "output_type": "stream",
          "name": "stdout",
          "text": [
            "Collecting opendatasets\n",
            "  Downloading opendatasets-0.1.22-py3-none-any.whl (15 kB)\n",
            "Requirement already satisfied: tqdm in /usr/local/lib/python3.10/dist-packages (from opendatasets) (4.66.4)\n",
            "Requirement already satisfied: kaggle in /usr/local/lib/python3.10/dist-packages (from opendatasets) (1.6.14)\n",
            "Requirement already satisfied: click in /usr/local/lib/python3.10/dist-packages (from opendatasets) (8.1.7)\n",
            "Requirement already satisfied: six>=1.10 in /usr/local/lib/python3.10/dist-packages (from kaggle->opendatasets) (1.16.0)\n",
            "Requirement already satisfied: certifi>=2023.7.22 in /usr/local/lib/python3.10/dist-packages (from kaggle->opendatasets) (2024.2.2)\n",
            "Requirement already satisfied: python-dateutil in /usr/local/lib/python3.10/dist-packages (from kaggle->opendatasets) (2.8.2)\n",
            "Requirement already satisfied: requests in /usr/local/lib/python3.10/dist-packages (from kaggle->opendatasets) (2.31.0)\n",
            "Requirement already satisfied: python-slugify in /usr/local/lib/python3.10/dist-packages (from kaggle->opendatasets) (8.0.4)\n",
            "Requirement already satisfied: urllib3 in /usr/local/lib/python3.10/dist-packages (from kaggle->opendatasets) (2.0.7)\n",
            "Requirement already satisfied: bleach in /usr/local/lib/python3.10/dist-packages (from kaggle->opendatasets) (6.1.0)\n",
            "Requirement already satisfied: webencodings in /usr/local/lib/python3.10/dist-packages (from bleach->kaggle->opendatasets) (0.5.1)\n",
            "Requirement already satisfied: text-unidecode>=1.3 in /usr/local/lib/python3.10/dist-packages (from python-slugify->kaggle->opendatasets) (1.3)\n",
            "Requirement already satisfied: charset-normalizer<4,>=2 in /usr/local/lib/python3.10/dist-packages (from requests->kaggle->opendatasets) (3.3.2)\n",
            "Requirement already satisfied: idna<4,>=2.5 in /usr/local/lib/python3.10/dist-packages (from requests->kaggle->opendatasets) (3.7)\n",
            "Installing collected packages: opendatasets\n",
            "Successfully installed opendatasets-0.1.22\n"
          ]
        }
      ],
      "source": [
        "!pip install opendatasets"
      ]
    },
    {
      "cell_type": "code",
      "execution_count": null,
      "metadata": {
        "id": "7VDQz4Jxd2Q9"
      },
      "outputs": [],
      "source": [
        "import opendatasets as od"
      ]
    },
    {
      "cell_type": "code",
      "execution_count": null,
      "metadata": {
        "colab": {
          "base_uri": "https://localhost:8080/"
        },
        "id": "d2jBH4shIpj_",
        "outputId": "035470d5-0f3f-4b49-adc4-9237054732a9"
      },
      "outputs": [
        {
          "output_type": "stream",
          "name": "stdout",
          "text": [
            "Please provide your Kaggle credentials to download this dataset. Learn more: http://bit.ly/kaggle-creds\n",
            "Your Kaggle username: tharushiwitharana\n",
            "Your Kaggle Key: ··········\n",
            "Dataset URL: https://www.kaggle.com/datasets/shashwatwork/identifying-disease-in-tea-leafs\n",
            "Downloading identifying-disease-in-tea-leafs.zip to ./identifying-disease-in-tea-leafs\n"
          ]
        },
        {
          "output_type": "stream",
          "name": "stderr",
          "text": [
            "100%|██████████| 740M/740M [00:24<00:00, 32.0MB/s]\n"
          ]
        },
        {
          "output_type": "stream",
          "name": "stdout",
          "text": [
            "\n"
          ]
        }
      ],
      "source": [
        "od.download(\"https://www.kaggle.com/datasets/shashwatwork/identifying-disease-in-tea-leafs\")"
      ]
    },
    {
      "cell_type": "code",
      "execution_count": null,
      "metadata": {
        "id": "PQ8DX6sohyLw"
      },
      "outputs": [],
      "source": [
        "import os"
      ]
    },
    {
      "cell_type": "code",
      "execution_count": null,
      "metadata": {
        "id": "aFSEXLHLp_w3"
      },
      "outputs": [],
      "source": [
        "import numpy as np\n",
        "import pandas as pd\n",
        "import matplotlib.pyplot as plt\n",
        "from sklearn.neighbors import KNeighborsClassifier\n",
        "from sklearn.metrics import accuracy_score, confusion_matrix\n",
        "from tensorflow.keras.preprocessing.image import ImageDataGenerator"
      ]
    },
    {
      "cell_type": "code",
      "execution_count": null,
      "metadata": {
        "id": "D7Yz1M4Sfbao"
      },
      "outputs": [],
      "source": [
        "import warnings\n",
        "warnings.filterwarnings(\"ignore\", category=DeprecationWarning)"
      ]
    },
    {
      "cell_type": "code",
      "execution_count": null,
      "metadata": {
        "id": "2TEMBaqDvkpr"
      },
      "outputs": [],
      "source": [
        "import os\n",
        "import shutil\n",
        "import random\n",
        "\n",
        "def split_dataset(input_folder, output_train_folder, output_test_folder, split_ratio=0.8):\n",
        "    # Create output folders if they don't exist\n",
        "    os.makedirs(output_train_folder, exist_ok=True)\n",
        "    os.makedirs(output_test_folder, exist_ok=True)\n",
        "\n",
        "    # Iterate through each class folder in the input folder\n",
        "    for class_folder in os.listdir(input_folder):\n",
        "        class_path = os.path.join(input_folder, class_folder)\n",
        "        if os.path.isdir(class_path):\n",
        "            images = os.listdir(class_path)\n",
        "            random.shuffle(images)  # Shuffle images to ensure randomness\n",
        "            split_index = int(len(images) * split_ratio)\n",
        "\n",
        "            # Copy images to train folder\n",
        "            for image in images[:split_index]:\n",
        "                src = os.path.join(class_path, image)\n",
        "                dst = os.path.join(output_train_folder, class_folder, image)\n",
        "                os.makedirs(os.path.dirname(dst), exist_ok=True)\n",
        "                shutil.copy(src, dst)\n",
        "\n",
        "            # Copy images to test folder\n",
        "            for image in images[split_index:]:\n",
        "                src = os.path.join(class_path, image)\n",
        "                dst = os.path.join(output_test_folder, class_folder, image)\n",
        "                os.makedirs(os.path.dirname(dst), exist_ok=True)\n",
        "                shutil.copy(src, dst)\n",
        "\n",
        "# Example usage\n",
        "input_folder = \"/content/identifying-disease-in-tea-leafs/tea sickness dataset\" # Change this to the path of your dataset\n",
        "output_train_folder = \"/content/identifying-disease-in-tea-leaf/train\"  # Change this to the desired train output folder\n",
        "output_test_folder =  \"/content/identifying-disease-in-tea-leaf/test\"  # Change this to the desired test output folder\n",
        "\n",
        "split_dataset(input_folder, output_train_folder, output_test_folder)\n"
      ]
    },
    {
      "cell_type": "code",
      "execution_count": null,
      "metadata": {
        "id": "vthkTQ6PhGAD"
      },
      "outputs": [],
      "source": [
        "batch_size = 32\n",
        "img_height = 256\n",
        "img_width = 256"
      ]
    },
    {
      "cell_type": "code",
      "execution_count": null,
      "metadata": {
        "id": "z_WBYZOtk9ox"
      },
      "outputs": [],
      "source": [
        "train_datagen = ImageDataGenerator(rescale=1./255, validation_split=0.2,\n",
        "                                   rotation_range=10, width_shift_range=0.2,\n",
        "                                   height_shift_range=0.2, shear_range=0.2,\n",
        "                                   zoom_range=0.2, horizontal_flip=True,\n",
        "                                   vertical_flip=True, fill_mode='nearest')"
      ]
    },
    {
      "cell_type": "code",
      "execution_count": null,
      "metadata": {
        "id": "Smjmsv8AlzbF"
      },
      "outputs": [],
      "source": [
        "test_datagen = ImageDataGenerator(rescale=1./255)"
      ]
    },
    {
      "cell_type": "code",
      "execution_count": null,
      "metadata": {
        "colab": {
          "base_uri": "https://localhost:8080/"
        },
        "id": "olaNocRAijXo",
        "outputId": "c548896c-3c5b-47d8-df26-730e68e9611b"
      },
      "outputs": [
        {
          "output_type": "stream",
          "name": "stdout",
          "text": [
            "Found 567 images belonging to 8 classes.\n",
            "Found 139 images belonging to 8 classes.\n",
            "Found 179 images belonging to 8 classes.\n"
          ]
        }
      ],
      "source": [
        "train_dataset = train_datagen.flow_from_directory(directory=output_train_folder,\n",
        "                                                  target_size=(224, 224),\n",
        "                                                  class_mode='categorical',\n",
        "                                                  subset='training',\n",
        "                                                  batch_size=32)\n",
        "valid_dataset = train_datagen.flow_from_directory(directory=output_train_folder,\n",
        "                                                  target_size=(224, 224),\n",
        "                                                  class_mode='categorical',\n",
        "                                                  subset='validation',\n",
        "                                                  batch_size=32)\n",
        "test_dataset = test_datagen.flow_from_directory(directory=output_test_folder,\n",
        "                                                target_size=(224, 224),\n",
        "                                                class_mode='categorical',\n",
        "                                                batch_size=32)\n"
      ]
    },
    {
      "cell_type": "code",
      "execution_count": null,
      "metadata": {
        "id": "ozm2ZFwJi2z9"
      },
      "outputs": [],
      "source": [
        "knn_model = KNeighborsClassifier(n_neighbors=5)"
      ]
    },
    {
      "cell_type": "code",
      "execution_count": null,
      "metadata": {
        "id": "C0L_h062jikt"
      },
      "outputs": [],
      "source": [
        "train_samples, train_labels = train_dataset.next()\n",
        "valid_samples, valid_labels = valid_dataset.next()\n",
        "test_samples, test_labels = test_dataset.next()"
      ]
    },
    {
      "cell_type": "code",
      "source": [
        "\n",
        "train_samples_flat = train_samples.reshape(train_samples.shape[0], -1)\n",
        "valid_samples_flat = valid_samples.reshape(valid_samples.shape[0], -1)\n",
        "test_samples_flat = test_samples.reshape(test_samples.shape[0], -1)\n"
      ],
      "metadata": {
        "id": "6buLmv4DRYR_"
      },
      "execution_count": null,
      "outputs": []
    },
    {
      "cell_type": "code",
      "source": [
        "\n",
        "# Train the KNN model\n",
        "knn_model.fit(train_samples_flat, np.argmax(train_labels, axis=1))\n"
      ],
      "metadata": {
        "colab": {
          "base_uri": "https://localhost:8080/",
          "height": 74
        },
        "id": "-eBLKHc1RZ9q",
        "outputId": "aa2f59ca-69a9-4cf1-e869-b71d22a0ada0"
      },
      "execution_count": null,
      "outputs": [
        {
          "output_type": "execute_result",
          "data": {
            "text/plain": [
              "KNeighborsClassifier()"
            ],
            "text/html": [
              "<style>#sk-container-id-1 {color: black;background-color: white;}#sk-container-id-1 pre{padding: 0;}#sk-container-id-1 div.sk-toggleable {background-color: white;}#sk-container-id-1 label.sk-toggleable__label {cursor: pointer;display: block;width: 100%;margin-bottom: 0;padding: 0.3em;box-sizing: border-box;text-align: center;}#sk-container-id-1 label.sk-toggleable__label-arrow:before {content: \"▸\";float: left;margin-right: 0.25em;color: #696969;}#sk-container-id-1 label.sk-toggleable__label-arrow:hover:before {color: black;}#sk-container-id-1 div.sk-estimator:hover label.sk-toggleable__label-arrow:before {color: black;}#sk-container-id-1 div.sk-toggleable__content {max-height: 0;max-width: 0;overflow: hidden;text-align: left;background-color: #f0f8ff;}#sk-container-id-1 div.sk-toggleable__content pre {margin: 0.2em;color: black;border-radius: 0.25em;background-color: #f0f8ff;}#sk-container-id-1 input.sk-toggleable__control:checked~div.sk-toggleable__content {max-height: 200px;max-width: 100%;overflow: auto;}#sk-container-id-1 input.sk-toggleable__control:checked~label.sk-toggleable__label-arrow:before {content: \"▾\";}#sk-container-id-1 div.sk-estimator input.sk-toggleable__control:checked~label.sk-toggleable__label {background-color: #d4ebff;}#sk-container-id-1 div.sk-label input.sk-toggleable__control:checked~label.sk-toggleable__label {background-color: #d4ebff;}#sk-container-id-1 input.sk-hidden--visually {border: 0;clip: rect(1px 1px 1px 1px);clip: rect(1px, 1px, 1px, 1px);height: 1px;margin: -1px;overflow: hidden;padding: 0;position: absolute;width: 1px;}#sk-container-id-1 div.sk-estimator {font-family: monospace;background-color: #f0f8ff;border: 1px dotted black;border-radius: 0.25em;box-sizing: border-box;margin-bottom: 0.5em;}#sk-container-id-1 div.sk-estimator:hover {background-color: #d4ebff;}#sk-container-id-1 div.sk-parallel-item::after {content: \"\";width: 100%;border-bottom: 1px solid gray;flex-grow: 1;}#sk-container-id-1 div.sk-label:hover label.sk-toggleable__label {background-color: #d4ebff;}#sk-container-id-1 div.sk-serial::before {content: \"\";position: absolute;border-left: 1px solid gray;box-sizing: border-box;top: 0;bottom: 0;left: 50%;z-index: 0;}#sk-container-id-1 div.sk-serial {display: flex;flex-direction: column;align-items: center;background-color: white;padding-right: 0.2em;padding-left: 0.2em;position: relative;}#sk-container-id-1 div.sk-item {position: relative;z-index: 1;}#sk-container-id-1 div.sk-parallel {display: flex;align-items: stretch;justify-content: center;background-color: white;position: relative;}#sk-container-id-1 div.sk-item::before, #sk-container-id-1 div.sk-parallel-item::before {content: \"\";position: absolute;border-left: 1px solid gray;box-sizing: border-box;top: 0;bottom: 0;left: 50%;z-index: -1;}#sk-container-id-1 div.sk-parallel-item {display: flex;flex-direction: column;z-index: 1;position: relative;background-color: white;}#sk-container-id-1 div.sk-parallel-item:first-child::after {align-self: flex-end;width: 50%;}#sk-container-id-1 div.sk-parallel-item:last-child::after {align-self: flex-start;width: 50%;}#sk-container-id-1 div.sk-parallel-item:only-child::after {width: 0;}#sk-container-id-1 div.sk-dashed-wrapped {border: 1px dashed gray;margin: 0 0.4em 0.5em 0.4em;box-sizing: border-box;padding-bottom: 0.4em;background-color: white;}#sk-container-id-1 div.sk-label label {font-family: monospace;font-weight: bold;display: inline-block;line-height: 1.2em;}#sk-container-id-1 div.sk-label-container {text-align: center;}#sk-container-id-1 div.sk-container {/* jupyter's `normalize.less` sets `[hidden] { display: none; }` but bootstrap.min.css set `[hidden] { display: none !important; }` so we also need the `!important` here to be able to override the default hidden behavior on the sphinx rendered scikit-learn.org. See: https://github.com/scikit-learn/scikit-learn/issues/21755 */display: inline-block !important;position: relative;}#sk-container-id-1 div.sk-text-repr-fallback {display: none;}</style><div id=\"sk-container-id-1\" class=\"sk-top-container\"><div class=\"sk-text-repr-fallback\"><pre>KNeighborsClassifier()</pre><b>In a Jupyter environment, please rerun this cell to show the HTML representation or trust the notebook. <br />On GitHub, the HTML representation is unable to render, please try loading this page with nbviewer.org.</b></div><div class=\"sk-container\" hidden><div class=\"sk-item\"><div class=\"sk-estimator sk-toggleable\"><input class=\"sk-toggleable__control sk-hidden--visually\" id=\"sk-estimator-id-1\" type=\"checkbox\" checked><label for=\"sk-estimator-id-1\" class=\"sk-toggleable__label sk-toggleable__label-arrow\">KNeighborsClassifier</label><div class=\"sk-toggleable__content\"><pre>KNeighborsClassifier()</pre></div></div></div></div></div>"
            ]
          },
          "metadata": {},
          "execution_count": 27
        }
      ]
    },
    {
      "cell_type": "code",
      "source": [
        "# Evaluate the model\n",
        "train_pred = knn_model.predict(train_samples_flat)\n",
        "valid_pred = knn_model.predict(valid_samples_flat)\n",
        "test_pred = knn_model.predict(test_samples_flat)"
      ],
      "metadata": {
        "id": "Zkel7lg6Re5w"
      },
      "execution_count": null,
      "outputs": []
    },
    {
      "cell_type": "code",
      "source": [
        "train_accuracy = accuracy_score(np.argmax(train_labels, axis=1), train_pred)\n",
        "valid_accuracy = accuracy_score(np.argmax(valid_labels, axis=1), valid_pred)\n",
        "test_accuracy = accuracy_score(np.argmax(test_labels, axis=1), test_pred)"
      ],
      "metadata": {
        "id": "bqlPu8ZSRlcP"
      },
      "execution_count": null,
      "outputs": []
    },
    {
      "cell_type": "code",
      "source": [
        "\n",
        "train_cm = confusion_matrix(np.argmax(train_labels, axis=1), train_pred)\n",
        "valid_cm = confusion_matrix(np.argmax(valid_labels, axis=1), valid_pred)\n",
        "test_cm = confusion_matrix(np.argmax(test_labels, axis=1), test_pred)"
      ],
      "metadata": {
        "id": "f1VpwFLeRpHv"
      },
      "execution_count": null,
      "outputs": []
    },
    {
      "cell_type": "code",
      "source": [
        "# Print evaluation metrics\n",
        "print('Train Accuracy:', train_accuracy)\n",
        "print('Valid Accuracy:', valid_accuracy)\n",
        "print('Test Accuracy:', test_accuracy)\n",
        "print('Train Confusion Matrix:\\n', train_cm)\n",
        "print('Valid Confusion Matrix:\\n', valid_cm)\n",
        "print('Test Confusion Matrix:\\n', test_cm)"
      ],
      "metadata": {
        "colab": {
          "base_uri": "https://localhost:8080/"
        },
        "id": "FzuDBU5IRtK4",
        "outputId": "40f65355-11cd-42ad-9ab2-0682d0a7a4b5"
      },
      "execution_count": null,
      "outputs": [
        {
          "output_type": "stream",
          "name": "stdout",
          "text": [
            "Train Accuracy: 0.5625\n",
            "Valid Accuracy: 0.15625\n",
            "Test Accuracy: 0.3125\n",
            "Train Confusion Matrix:\n",
            " [[0 0 1 0 0 0 0 0]\n",
            " [0 1 0 0 0 1 1 0]\n",
            " [0 0 7 0 0 0 0 0]\n",
            " [0 1 0 0 0 0 1 1]\n",
            " [0 0 3 0 1 0 0 0]\n",
            " [0 1 0 0 0 1 0 0]\n",
            " [0 2 0 0 0 0 7 0]\n",
            " [0 0 0 0 0 0 2 1]]\n",
            "Valid Confusion Matrix:\n",
            " [[0 0 2 0 1 0 0 1]\n",
            " [0 0 0 1 1 0 4 0]\n",
            " [0 0 3 0 0 0 1 0]\n",
            " [0 1 0 0 0 0 2 0]\n",
            " [0 0 1 0 1 0 1 0]\n",
            " [0 2 0 0 0 0 0 0]\n",
            " [0 2 0 1 0 0 1 0]\n",
            " [0 1 0 1 0 0 4 0]]\n",
            "Test Confusion Matrix:\n",
            " [[0 0 6 0 0 0 1 0]\n",
            " [0 1 0 1 0 0 0 1]\n",
            " [0 0 3 0 0 0 1 0]\n",
            " [0 2 0 1 0 0 0 0]\n",
            " [0 0 1 0 0 0 0 0]\n",
            " [0 2 0 0 0 0 0 0]\n",
            " [0 1 0 0 0 0 5 0]\n",
            " [0 1 0 3 0 0 2 0]]\n"
          ]
        }
      ]
    },
    {
      "cell_type": "code",
      "source": [
        "\n",
        "# Plot confusion matrices\n",
        "plt.figure(figsize=(12, 4))\n",
        "plt.subplot(1, 3, 1)\n",
        "plt.title('Train Confusion Matrix')\n",
        "plt.imshow(train_cm, cmap='Blues', interpolation='nearest')\n",
        "plt.colorbar()\n",
        "plt.xlabel('Predicted')\n",
        "plt.ylabel('Actual')\n",
        "\n",
        "plt.subplot(1, 3, 2)\n",
        "plt.title('Valid Confusion Matrix')\n",
        "plt.imshow(valid_cm, cmap='Blues', interpolation='nearest')\n",
        "plt.colorbar()\n",
        "plt.xlabel('Predicted')\n",
        "plt.ylabel('Actual')\n",
        "\n",
        "plt.subplot(1, 3, 3)\n",
        "plt.title('Test Confusion Matrix')\n",
        "plt.imshow(test_cm, cmap='Blues', interpolation='nearest')\n",
        "plt.colorbar()\n",
        "plt.xlabel('Predicted')\n",
        "plt.ylabel('Actual')\n",
        "\n",
        "plt.tight_layout()\n",
        "plt.show()"
      ],
      "metadata": {
        "colab": {
          "base_uri": "https://localhost:8080/",
          "height": 407
        },
        "id": "hsZpvC3XR1JK",
        "outputId": "67a58093-02db-457a-f432-f41e186caef5"
      },
      "execution_count": null,
      "outputs": [
        {
          "output_type": "display_data",
          "data": {
            "text/plain": [
              "<Figure size 1200x400 with 6 Axes>"
            ],
            "image/png": "[encoded data removed]"
          },
          "metadata": {}
        }
      ]
    }
  ],
  "metadata": {
    "accelerator": "GPU",
    "colab": {
      "gpuType": "T4",
      "provenance": []
    },
    "kernelspec": {
      "display_name": "Python 3",
      "name": "python3"
    },
    "language_info": {
      "name": "python"
    }
  },
  "nbformat": 4,
  "nbformat_minor": 0
}